{
 "cells": [
  {
   "cell_type": "code",
   "execution_count": 1,
   "metadata": {},
   "outputs": [],
   "source": [
    "from selenium import webdriver\n",
    "from selenium.webdriver.chrome.service import Service\n",
    "from webdriver_manager.chrome import ChromeDriverManager\n",
    "from selenium.webdriver.common.by import By\n",
    "options = webdriver.ChromeOptions()\n",
    "service = Service(ChromeDriverManager().install())\n",
    "\n"
   ]
  },
  {
   "cell_type": "code",
   "execution_count": 2,
   "metadata": {},
   "outputs": [],
   "source": [
    "\n",
    "import time\n",
    "\n",
    "driver = webdriver.Chrome(service=service, options=options)\n",
    "\n",
    "driver.get(\"https://www.linkedin.com/uas/login\")\n",
    "time.sleep(5)\n",
    "\n",
    "# Entering username\n",
    "username = driver.find_element(By.ID, \"username\")\n",
    "username.send_keys(\"anoopchandra671@gmail.com\") \n",
    "\n",
    "# Entering Password\n",
    "passw = driver.find_element(By.ID, \"password\")\n",
    "passw.send_keys(\"91929394@aA\")\t \n",
    "\n",
    "# clicking submit\n",
    "driver.find_element(By.XPATH, \"//button[@type='submit']\").click()\n",
    "\n",
    "\n"
   ]
  },
  {
   "cell_type": "code",
   "execution_count": 6,
   "metadata": {},
   "outputs": [],
   "source": [
    "\n",
    "from selenium.webdriver.common.keys import Keys\n",
    "\n",
    "# opening search bar \n",
    "search = driver.find_element(By.CLASS_NAME, \"search-global-typeahead__input\")\n",
    "driver.maximize_window()\n",
    "\n",
    "# searching by name\n",
    "search.send_keys(\"rahul kumar\")\n",
    "\n",
    "# clicking enter \n",
    "search.send_keys(Keys.RETURN)\n"
   ]
  },
  {
   "cell_type": "code",
   "execution_count": 8,
   "metadata": {},
   "outputs": [],
   "source": [
    "\n",
    "driver.find_element(By.XPATH, '//*[@id=\"search-reusables__filters-bar\"]/ul/li[2]/button').click() # filtering by people"
   ]
  },
  {
   "cell_type": "code",
   "execution_count": 10,
   "metadata": {},
   "outputs": [],
   "source": [
    "# fetching container \n",
    "\n",
    "Ul_Container = driver.find_element(By.CLASS_NAME, 'reusable-search__entity-result-list')"
   ]
  },
  {
   "cell_type": "code",
   "execution_count": 18,
   "metadata": {},
   "outputs": [
    {
     "name": "stdout",
     "output_type": "stream",
     "text": [
      "line no. 3\n",
      "Message: no such element: Unable to locate element: {\"method\":\"css selector\",\"selector\":\".t-16\"}\n",
      "  (Session info: chrome=124.0.6367.119)\n",
      "Stacktrace:\n",
      "\tGetHandleVerifier [0x00E4C113+48259]\n",
      "\t(No symbol) [0x00DDCA41]\n",
      "\t(No symbol) [0x00CD0A17]\n",
      "\t(No symbol) [0x00D10BED]\n",
      "\t(No symbol) [0x00D10C9B]\n",
      "\t(No symbol) [0x00D06F11]\n",
      "\t(No symbol) [0x00D30DE4]\n",
      "\t(No symbol) [0x00D06E25]\n",
      "\t(No symbol) [0x00D31034]\n",
      "\t(No symbol) [0x00D49B9C]\n",
      "\t(No symbol) [0x00D30B36]\n",
      "\t(No symbol) [0x00D0570D]\n",
      "\t(No symbol) [0x00D062CD]\n",
      "\tGetHandleVerifier [0x01106533+2908323]\n",
      "\tGetHandleVerifier [0x01143B4B+3159739]\n",
      "\tGetHandleVerifier [0x00EE505B+674763]\n",
      "\tGetHandleVerifier [0x00EEB21C+699788]\n",
      "\t(No symbol) [0x00DE6244]\n",
      "\t(No symbol) [0x00DE2298]\n",
      "\t(No symbol) [0x00DE242C]\n",
      "\t(No symbol) [0x00DD4BB0]\n",
      "\tBaseThreadInitThunk [0x75A77BA9+25]\n",
      "\tRtlInitializeExceptionChain [0x776EBE3B+107]\n",
      "\tRtlClearBits [0x776EBDBF+191]\n",
      "\n"
     ]
    }
   ],
   "source": [
    "names_list =[]\n",
    "k=1\n",
    "# going in each element \n",
    "for result in Ul_Container.find_elements(By.TAG_NAME, 'li'):\n",
    "    try:\n",
    "\n",
    "        new = result.find_element(By.CLASS_NAME, 't-16')\n",
    "        # saving data in the list \n",
    "        names_list.append(new.text)\n",
    "\n",
    "    except Exception as e:\n",
    "        print(\"line no.\",k)\n",
    "        print(e)\n",
    "    k +=1\n",
    "\n"
   ]
  },
  {
   "cell_type": "code",
   "execution_count": 24,
   "metadata": {},
   "outputs": [
    {
     "data": {
      "text/plain": [
       "['Rahul Kumar',\n",
       " 'Rahul Kumar',\n",
       " 'Rahul Kumar',\n",
       " 'Rahul Singh',\n",
       " 'Rahul Kumar',\n",
       " 'Rahul Kumar Singh',\n",
       " 'Rahul Kumaar',\n",
       " 'Rahul Kumar',\n",
       " 'Rahul Kumar',\n",
       " 'Rahul Kumar']"
      ]
     },
     "execution_count": 24,
     "metadata": {},
     "output_type": "execute_result"
    }
   ],
   "source": [
    "# spliting data by \\n and taking first value, so that we can get desired result \n",
    "new_names_list = [i.split('\\n')[0] for i in names_list]\n",
    "\n",
    "new_names_list\n"
   ]
  },
  {
   "cell_type": "code",
   "execution_count": 27,
   "metadata": {},
   "outputs": [
    {
     "data": {
      "text/plain": [
       "[('Rahul', '', 'Kumar'),\n",
       " ('Rahul', '', 'Kumar'),\n",
       " ('Rahul', '', 'Kumar'),\n",
       " ('Rahul', '', 'Singh'),\n",
       " ('Rahul', '', 'Kumar'),\n",
       " ('Rahul', 'Kumar', 'Singh'),\n",
       " ('Rahul', '', 'Kumaar'),\n",
       " ('Rahul', '', 'Kumar'),\n",
       " ('Rahul', '', 'Kumar'),\n",
       " ('Rahul', '', 'Kumar')]"
      ]
     },
     "execution_count": 27,
     "metadata": {},
     "output_type": "execute_result"
    }
   ],
   "source": [
    "new_names_list = [i.split('\\n')[0] for i in names_list]\n",
    "results =[]\n",
    "for name in new_names_list:\n",
    "    name_parts = name.split()\n",
    "    if len(name_parts) == 2:\n",
    "        first_name, last_name = name_parts\n",
    "        middle_name = ''\n",
    "    elif len(name_parts) >= 3:\n",
    "        first_name = name_parts[0]\n",
    "        middle_name = ' '.join(name_parts[1:-1])\n",
    "        last_name = name_parts[-1]\n",
    "    else:\n",
    "        first_name = name\n",
    "        middle_name = ''\n",
    "        last_name = ''\n",
    "    results.append((first_name, middle_name, last_name))\n",
    "results\n"
   ]
  },
  {
   "cell_type": "code",
   "execution_count": 30,
   "metadata": {},
   "outputs": [],
   "source": [
    "import csv\n",
    "with open('results.csv', 'w', newline='', encoding='utf-8') as csvfile:\n",
    "\n",
    "    writer = csv.writer(csvfile)\n",
    "    writer.writerow(['First Name', 'Middle Name', 'Last Name'])\n",
    "    writer.writerows(results)"
   ]
  },
  {
   "cell_type": "code",
   "execution_count": null,
   "metadata": {},
   "outputs": [],
   "source": []
  }
 ],
 "metadata": {
  "kernelspec": {
   "display_name": "Python 3",
   "language": "python",
   "name": "python3"
  },
  "language_info": {
   "codemirror_mode": {
    "name": "ipython",
    "version": 3
   },
   "file_extension": ".py",
   "mimetype": "text/x-python",
   "name": "python",
   "nbconvert_exporter": "python",
   "pygments_lexer": "ipython3",
   "version": "3.11.2"
  }
 },
 "nbformat": 4,
 "nbformat_minor": 2
}
